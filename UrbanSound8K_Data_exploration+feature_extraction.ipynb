{
 "cells": [
  {
   "cell_type": "markdown",
   "id": "20016ed2",
   "metadata": {},
   "source": [
    "### Load libraries"
   ]
  },
  {
   "cell_type": "code",
   "execution_count": 1,
   "id": "3dc11125",
   "metadata": {},
   "outputs": [],
   "source": [
    "import UrbanSound8K_dataprep as U\n",
    "import matplotlib.pyplot as plt\n",
    "import numpy as np\n",
    "import pandas as pd"
   ]
  },
  {
   "cell_type": "markdown",
   "id": "68e1c1e6",
   "metadata": {},
   "source": [
    "### Parameters"
   ]
  },
  {
   "cell_type": "code",
   "execution_count": 41,
   "id": "12e84c19",
   "metadata": {},
   "outputs": [],
   "source": [
    "# general parameters\n",
    "PATH = \"data\"\n",
    "SAMPLE_RATE = 22050     # targeted sample for all files\n",
    "NUM_OF_SAMPLES = 44100  # targeted number of sample of each file\n",
    "\n",
    "# parameters for feature extraction (melspectrograms and mfcc)\n",
    "N_FFT = 1024\n",
    "HOP_LENGTH = 512\n",
    "N_MELS = 64\n",
    "N_MFCC = 13"
   ]
  },
  {
   "cell_type": "markdown",
   "id": "465f1c55",
   "metadata": {},
   "source": [
    "### Load metadata"
   ]
  },
  {
   "cell_type": "code",
   "execution_count": 40,
   "id": "50e4e033",
   "metadata": {},
   "outputs": [],
   "source": []
  },
  {
   "cell_type": "code",
   "execution_count": 2,
   "id": "4ef25cd8",
   "metadata": {},
   "outputs": [],
   "source": [
    "dataset = U.UrbanSoundPrep(PATH)\n",
    "df = dataset.metadata"
   ]
  },
  {
   "cell_type": "markdown",
   "id": "d0c91ad0",
   "metadata": {},
   "source": [
    "### Data exploration"
   ]
  },
  {
   "cell_type": "code",
   "execution_count": 3,
   "id": "8b2ba9b6",
   "metadata": {},
   "outputs": [
    {
     "data": {
      "text/html": [
       "<div>\n",
       "<style scoped>\n",
       "    .dataframe tbody tr th:only-of-type {\n",
       "        vertical-align: middle;\n",
       "    }\n",
       "\n",
       "    .dataframe tbody tr th {\n",
       "        vertical-align: top;\n",
       "    }\n",
       "\n",
       "    .dataframe thead th {\n",
       "        text-align: right;\n",
       "    }\n",
       "</style>\n",
       "<table border=\"1\" class=\"dataframe\">\n",
       "  <thead>\n",
       "    <tr style=\"text-align: right;\">\n",
       "      <th></th>\n",
       "      <th>fsID</th>\n",
       "      <th>start</th>\n",
       "      <th>end</th>\n",
       "      <th>salience</th>\n",
       "      <th>fold</th>\n",
       "      <th>classID</th>\n",
       "    </tr>\n",
       "  </thead>\n",
       "  <tbody>\n",
       "    <tr>\n",
       "      <th>count</th>\n",
       "      <td>8732.000000</td>\n",
       "      <td>8732.000000</td>\n",
       "      <td>8732.000000</td>\n",
       "      <td>8732.000000</td>\n",
       "      <td>8732.000000</td>\n",
       "      <td>8732.000000</td>\n",
       "    </tr>\n",
       "    <tr>\n",
       "      <th>mean</th>\n",
       "      <td>116033.493816</td>\n",
       "      <td>38.645409</td>\n",
       "      <td>42.253312</td>\n",
       "      <td>1.347000</td>\n",
       "      <td>5.385937</td>\n",
       "      <td>4.592877</td>\n",
       "    </tr>\n",
       "    <tr>\n",
       "      <th>std</th>\n",
       "      <td>57991.017218</td>\n",
       "      <td>74.292126</td>\n",
       "      <td>74.369669</td>\n",
       "      <td>0.476043</td>\n",
       "      <td>2.846820</td>\n",
       "      <td>2.894544</td>\n",
       "    </tr>\n",
       "    <tr>\n",
       "      <th>min</th>\n",
       "      <td>344.000000</td>\n",
       "      <td>0.000000</td>\n",
       "      <td>0.105962</td>\n",
       "      <td>1.000000</td>\n",
       "      <td>1.000000</td>\n",
       "      <td>0.000000</td>\n",
       "    </tr>\n",
       "    <tr>\n",
       "      <th>25%</th>\n",
       "      <td>69942.250000</td>\n",
       "      <td>3.000000</td>\n",
       "      <td>6.839398</td>\n",
       "      <td>1.000000</td>\n",
       "      <td>3.000000</td>\n",
       "      <td>2.000000</td>\n",
       "    </tr>\n",
       "    <tr>\n",
       "      <th>50%</th>\n",
       "      <td>118279.000000</td>\n",
       "      <td>10.376492</td>\n",
       "      <td>14.000000</td>\n",
       "      <td>1.000000</td>\n",
       "      <td>5.000000</td>\n",
       "      <td>4.000000</td>\n",
       "    </tr>\n",
       "    <tr>\n",
       "      <th>75%</th>\n",
       "      <td>166942.000000</td>\n",
       "      <td>35.131372</td>\n",
       "      <td>38.866979</td>\n",
       "      <td>2.000000</td>\n",
       "      <td>8.000000</td>\n",
       "      <td>7.000000</td>\n",
       "    </tr>\n",
       "    <tr>\n",
       "      <th>max</th>\n",
       "      <td>209992.000000</td>\n",
       "      <td>600.125356</td>\n",
       "      <td>604.125356</td>\n",
       "      <td>2.000000</td>\n",
       "      <td>10.000000</td>\n",
       "      <td>9.000000</td>\n",
       "    </tr>\n",
       "  </tbody>\n",
       "</table>\n",
       "</div>"
      ],
      "text/plain": [
       "                fsID        start          end     salience         fold  \\\n",
       "count    8732.000000  8732.000000  8732.000000  8732.000000  8732.000000   \n",
       "mean   116033.493816    38.645409    42.253312     1.347000     5.385937   \n",
       "std     57991.017218    74.292126    74.369669     0.476043     2.846820   \n",
       "min       344.000000     0.000000     0.105962     1.000000     1.000000   \n",
       "25%     69942.250000     3.000000     6.839398     1.000000     3.000000   \n",
       "50%    118279.000000    10.376492    14.000000     1.000000     5.000000   \n",
       "75%    166942.000000    35.131372    38.866979     2.000000     8.000000   \n",
       "max    209992.000000   600.125356   604.125356     2.000000    10.000000   \n",
       "\n",
       "           classID  \n",
       "count  8732.000000  \n",
       "mean      4.592877  \n",
       "std       2.894544  \n",
       "min       0.000000  \n",
       "25%       2.000000  \n",
       "50%       4.000000  \n",
       "75%       7.000000  \n",
       "max       9.000000  "
      ]
     },
     "execution_count": 3,
     "metadata": {},
     "output_type": "execute_result"
    }
   ],
   "source": [
    "df.describe()"
   ]
  },
  {
   "cell_type": "code",
   "execution_count": 4,
   "id": "2622069e",
   "metadata": {},
   "outputs": [
    {
     "data": {
      "text/html": [
       "<div>\n",
       "<style scoped>\n",
       "    .dataframe tbody tr th:only-of-type {\n",
       "        vertical-align: middle;\n",
       "    }\n",
       "\n",
       "    .dataframe tbody tr th {\n",
       "        vertical-align: top;\n",
       "    }\n",
       "\n",
       "    .dataframe thead th {\n",
       "        text-align: right;\n",
       "    }\n",
       "</style>\n",
       "<table border=\"1\" class=\"dataframe\">\n",
       "  <thead>\n",
       "    <tr style=\"text-align: right;\">\n",
       "      <th></th>\n",
       "      <th>slice_file_name</th>\n",
       "      <th>fsID</th>\n",
       "      <th>start</th>\n",
       "      <th>end</th>\n",
       "      <th>salience</th>\n",
       "      <th>fold</th>\n",
       "      <th>classID</th>\n",
       "      <th>class</th>\n",
       "    </tr>\n",
       "  </thead>\n",
       "  <tbody>\n",
       "    <tr>\n",
       "      <th>0</th>\n",
       "      <td>100032-3-0-0.wav</td>\n",
       "      <td>100032</td>\n",
       "      <td>0.000000</td>\n",
       "      <td>0.317551</td>\n",
       "      <td>1</td>\n",
       "      <td>5</td>\n",
       "      <td>3</td>\n",
       "      <td>dog_bark</td>\n",
       "    </tr>\n",
       "    <tr>\n",
       "      <th>1</th>\n",
       "      <td>100263-2-0-117.wav</td>\n",
       "      <td>100263</td>\n",
       "      <td>58.500000</td>\n",
       "      <td>62.500000</td>\n",
       "      <td>1</td>\n",
       "      <td>5</td>\n",
       "      <td>2</td>\n",
       "      <td>children_playing</td>\n",
       "    </tr>\n",
       "    <tr>\n",
       "      <th>2</th>\n",
       "      <td>100263-2-0-121.wav</td>\n",
       "      <td>100263</td>\n",
       "      <td>60.500000</td>\n",
       "      <td>64.500000</td>\n",
       "      <td>1</td>\n",
       "      <td>5</td>\n",
       "      <td>2</td>\n",
       "      <td>children_playing</td>\n",
       "    </tr>\n",
       "    <tr>\n",
       "      <th>3</th>\n",
       "      <td>100263-2-0-126.wav</td>\n",
       "      <td>100263</td>\n",
       "      <td>63.000000</td>\n",
       "      <td>67.000000</td>\n",
       "      <td>1</td>\n",
       "      <td>5</td>\n",
       "      <td>2</td>\n",
       "      <td>children_playing</td>\n",
       "    </tr>\n",
       "    <tr>\n",
       "      <th>4</th>\n",
       "      <td>100263-2-0-137.wav</td>\n",
       "      <td>100263</td>\n",
       "      <td>68.500000</td>\n",
       "      <td>72.500000</td>\n",
       "      <td>1</td>\n",
       "      <td>5</td>\n",
       "      <td>2</td>\n",
       "      <td>children_playing</td>\n",
       "    </tr>\n",
       "    <tr>\n",
       "      <th>...</th>\n",
       "      <td>...</td>\n",
       "      <td>...</td>\n",
       "      <td>...</td>\n",
       "      <td>...</td>\n",
       "      <td>...</td>\n",
       "      <td>...</td>\n",
       "      <td>...</td>\n",
       "      <td>...</td>\n",
       "    </tr>\n",
       "    <tr>\n",
       "      <th>8727</th>\n",
       "      <td>99812-1-2-0.wav</td>\n",
       "      <td>99812</td>\n",
       "      <td>159.522205</td>\n",
       "      <td>163.522205</td>\n",
       "      <td>2</td>\n",
       "      <td>7</td>\n",
       "      <td>1</td>\n",
       "      <td>car_horn</td>\n",
       "    </tr>\n",
       "    <tr>\n",
       "      <th>8728</th>\n",
       "      <td>99812-1-3-0.wav</td>\n",
       "      <td>99812</td>\n",
       "      <td>181.142431</td>\n",
       "      <td>183.284976</td>\n",
       "      <td>2</td>\n",
       "      <td>7</td>\n",
       "      <td>1</td>\n",
       "      <td>car_horn</td>\n",
       "    </tr>\n",
       "    <tr>\n",
       "      <th>8729</th>\n",
       "      <td>99812-1-4-0.wav</td>\n",
       "      <td>99812</td>\n",
       "      <td>242.691902</td>\n",
       "      <td>246.197885</td>\n",
       "      <td>2</td>\n",
       "      <td>7</td>\n",
       "      <td>1</td>\n",
       "      <td>car_horn</td>\n",
       "    </tr>\n",
       "    <tr>\n",
       "      <th>8730</th>\n",
       "      <td>99812-1-5-0.wav</td>\n",
       "      <td>99812</td>\n",
       "      <td>253.209850</td>\n",
       "      <td>255.741948</td>\n",
       "      <td>2</td>\n",
       "      <td>7</td>\n",
       "      <td>1</td>\n",
       "      <td>car_horn</td>\n",
       "    </tr>\n",
       "    <tr>\n",
       "      <th>8731</th>\n",
       "      <td>99812-1-6-0.wav</td>\n",
       "      <td>99812</td>\n",
       "      <td>332.289233</td>\n",
       "      <td>334.821332</td>\n",
       "      <td>2</td>\n",
       "      <td>7</td>\n",
       "      <td>1</td>\n",
       "      <td>car_horn</td>\n",
       "    </tr>\n",
       "  </tbody>\n",
       "</table>\n",
       "<p>8732 rows × 8 columns</p>\n",
       "</div>"
      ],
      "text/plain": [
       "         slice_file_name    fsID       start         end  salience  fold  \\\n",
       "0       100032-3-0-0.wav  100032    0.000000    0.317551         1     5   \n",
       "1     100263-2-0-117.wav  100263   58.500000   62.500000         1     5   \n",
       "2     100263-2-0-121.wav  100263   60.500000   64.500000         1     5   \n",
       "3     100263-2-0-126.wav  100263   63.000000   67.000000         1     5   \n",
       "4     100263-2-0-137.wav  100263   68.500000   72.500000         1     5   \n",
       "...                  ...     ...         ...         ...       ...   ...   \n",
       "8727     99812-1-2-0.wav   99812  159.522205  163.522205         2     7   \n",
       "8728     99812-1-3-0.wav   99812  181.142431  183.284976         2     7   \n",
       "8729     99812-1-4-0.wav   99812  242.691902  246.197885         2     7   \n",
       "8730     99812-1-5-0.wav   99812  253.209850  255.741948         2     7   \n",
       "8731     99812-1-6-0.wav   99812  332.289233  334.821332         2     7   \n",
       "\n",
       "      classID             class  \n",
       "0           3          dog_bark  \n",
       "1           2  children_playing  \n",
       "2           2  children_playing  \n",
       "3           2  children_playing  \n",
       "4           2  children_playing  \n",
       "...       ...               ...  \n",
       "8727        1          car_horn  \n",
       "8728        1          car_horn  \n",
       "8729        1          car_horn  \n",
       "8730        1          car_horn  \n",
       "8731        1          car_horn  \n",
       "\n",
       "[8732 rows x 8 columns]"
      ]
     },
     "execution_count": 4,
     "metadata": {},
     "output_type": "execute_result"
    }
   ],
   "source": [
    "df"
   ]
  },
  {
   "cell_type": "code",
   "execution_count": 5,
   "id": "d0378f74",
   "metadata": {},
   "outputs": [
    {
     "data": {
      "text/plain": [
       "8732"
      ]
     },
     "execution_count": 5,
     "metadata": {},
     "output_type": "execute_result"
    }
   ],
   "source": [
    "length = dataset.get_dataset_length()\n",
    "length"
   ]
  },
  {
   "cell_type": "code",
   "execution_count": 6,
   "id": "c0d4ad57",
   "metadata": {},
   "outputs": [
    {
     "data": {
      "text/plain": [
       "array(['dog_bark', 'children_playing', 'car_horn', 'air_conditioner',\n",
       "       'street_music', 'gun_shot', 'siren', 'engine_idling', 'jackhammer',\n",
       "       'drilling'], dtype=object)"
      ]
     },
     "execution_count": 6,
     "metadata": {},
     "output_type": "execute_result"
    }
   ],
   "source": [
    "df['class'].unique()"
   ]
  },
  {
   "cell_type": "code",
   "execution_count": 7,
   "id": "fdb77008",
   "metadata": {},
   "outputs": [
    {
     "data": {
      "text/plain": [
       "dog_bark            11.452130\n",
       "children_playing    11.452130\n",
       "air_conditioner     11.452130\n",
       "street_music        11.452130\n",
       "engine_idling       11.452130\n",
       "jackhammer          11.452130\n",
       "drilling            11.452130\n",
       "siren               10.639029\n",
       "car_horn             4.912964\n",
       "gun_shot             4.283097\n",
       "Name: class, dtype: float64"
      ]
     },
     "execution_count": 7,
     "metadata": {},
     "output_type": "execute_result"
    }
   ],
   "source": [
    "class_percentage = (df['class'].value_counts() / length) * 100\n",
    "class_percentage"
   ]
  },
  {
   "cell_type": "code",
   "execution_count": 8,
   "id": "99f1af07",
   "metadata": {},
   "outputs": [
    {
     "data": {
      "image/png": "[encoded data removed]",
      "text/plain": [
       "<Figure size 640x480 with 1 Axes>"
      ]
     },
     "metadata": {},
     "output_type": "display_data"
    }
   ],
   "source": [
    "df['class'].value_counts().plot.pie(autopct='%.2f')\n",
    "plt.title(\"Class distribution\")\n",
    "plt.savefig(\"figures/class_distribution.png\", bbox_inches='tight')"
   ]
  },
  {
   "cell_type": "code",
   "execution_count": 26,
   "id": "0ebfd06e",
   "metadata": {},
   "outputs": [
    {
     "data": {
      "text/html": [
       "<div>\n",
       "<style scoped>\n",
       "    .dataframe tbody tr th:only-of-type {\n",
       "        vertical-align: middle;\n",
       "    }\n",
       "\n",
       "    .dataframe tbody tr th {\n",
       "        vertical-align: top;\n",
       "    }\n",
       "\n",
       "    .dataframe thead th {\n",
       "        text-align: right;\n",
       "    }\n",
       "</style>\n",
       "<table border=\"1\" class=\"dataframe\">\n",
       "  <thead>\n",
       "    <tr style=\"text-align: right;\">\n",
       "      <th></th>\n",
       "      <th>slice_file_name</th>\n",
       "      <th>fsID</th>\n",
       "      <th>start</th>\n",
       "      <th>end</th>\n",
       "      <th>salience</th>\n",
       "      <th>fold</th>\n",
       "      <th>classID</th>\n",
       "      <th>class</th>\n",
       "      <th>durations</th>\n",
       "    </tr>\n",
       "  </thead>\n",
       "  <tbody>\n",
       "    <tr>\n",
       "      <th>0</th>\n",
       "      <td>100032-3-0-0.wav</td>\n",
       "      <td>100032</td>\n",
       "      <td>0.000000</td>\n",
       "      <td>0.317551</td>\n",
       "      <td>1</td>\n",
       "      <td>5</td>\n",
       "      <td>3</td>\n",
       "      <td>dog_bark</td>\n",
       "      <td>0.317551</td>\n",
       "    </tr>\n",
       "    <tr>\n",
       "      <th>1</th>\n",
       "      <td>100263-2-0-117.wav</td>\n",
       "      <td>100263</td>\n",
       "      <td>58.500000</td>\n",
       "      <td>62.500000</td>\n",
       "      <td>1</td>\n",
       "      <td>5</td>\n",
       "      <td>2</td>\n",
       "      <td>children_playing</td>\n",
       "      <td>4.000000</td>\n",
       "    </tr>\n",
       "    <tr>\n",
       "      <th>2</th>\n",
       "      <td>100263-2-0-121.wav</td>\n",
       "      <td>100263</td>\n",
       "      <td>60.500000</td>\n",
       "      <td>64.500000</td>\n",
       "      <td>1</td>\n",
       "      <td>5</td>\n",
       "      <td>2</td>\n",
       "      <td>children_playing</td>\n",
       "      <td>4.000000</td>\n",
       "    </tr>\n",
       "    <tr>\n",
       "      <th>3</th>\n",
       "      <td>100263-2-0-126.wav</td>\n",
       "      <td>100263</td>\n",
       "      <td>63.000000</td>\n",
       "      <td>67.000000</td>\n",
       "      <td>1</td>\n",
       "      <td>5</td>\n",
       "      <td>2</td>\n",
       "      <td>children_playing</td>\n",
       "      <td>4.000000</td>\n",
       "    </tr>\n",
       "    <tr>\n",
       "      <th>4</th>\n",
       "      <td>100263-2-0-137.wav</td>\n",
       "      <td>100263</td>\n",
       "      <td>68.500000</td>\n",
       "      <td>72.500000</td>\n",
       "      <td>1</td>\n",
       "      <td>5</td>\n",
       "      <td>2</td>\n",
       "      <td>children_playing</td>\n",
       "      <td>4.000000</td>\n",
       "    </tr>\n",
       "    <tr>\n",
       "      <th>...</th>\n",
       "      <td>...</td>\n",
       "      <td>...</td>\n",
       "      <td>...</td>\n",
       "      <td>...</td>\n",
       "      <td>...</td>\n",
       "      <td>...</td>\n",
       "      <td>...</td>\n",
       "      <td>...</td>\n",
       "      <td>...</td>\n",
       "    </tr>\n",
       "    <tr>\n",
       "      <th>8727</th>\n",
       "      <td>99812-1-2-0.wav</td>\n",
       "      <td>99812</td>\n",
       "      <td>159.522205</td>\n",
       "      <td>163.522205</td>\n",
       "      <td>2</td>\n",
       "      <td>7</td>\n",
       "      <td>1</td>\n",
       "      <td>car_horn</td>\n",
       "      <td>4.000000</td>\n",
       "    </tr>\n",
       "    <tr>\n",
       "      <th>8728</th>\n",
       "      <td>99812-1-3-0.wav</td>\n",
       "      <td>99812</td>\n",
       "      <td>181.142431</td>\n",
       "      <td>183.284976</td>\n",
       "      <td>2</td>\n",
       "      <td>7</td>\n",
       "      <td>1</td>\n",
       "      <td>car_horn</td>\n",
       "      <td>2.142545</td>\n",
       "    </tr>\n",
       "    <tr>\n",
       "      <th>8729</th>\n",
       "      <td>99812-1-4-0.wav</td>\n",
       "      <td>99812</td>\n",
       "      <td>242.691902</td>\n",
       "      <td>246.197885</td>\n",
       "      <td>2</td>\n",
       "      <td>7</td>\n",
       "      <td>1</td>\n",
       "      <td>car_horn</td>\n",
       "      <td>3.505983</td>\n",
       "    </tr>\n",
       "    <tr>\n",
       "      <th>8730</th>\n",
       "      <td>99812-1-5-0.wav</td>\n",
       "      <td>99812</td>\n",
       "      <td>253.209850</td>\n",
       "      <td>255.741948</td>\n",
       "      <td>2</td>\n",
       "      <td>7</td>\n",
       "      <td>1</td>\n",
       "      <td>car_horn</td>\n",
       "      <td>2.532098</td>\n",
       "    </tr>\n",
       "    <tr>\n",
       "      <th>8731</th>\n",
       "      <td>99812-1-6-0.wav</td>\n",
       "      <td>99812</td>\n",
       "      <td>332.289233</td>\n",
       "      <td>334.821332</td>\n",
       "      <td>2</td>\n",
       "      <td>7</td>\n",
       "      <td>1</td>\n",
       "      <td>car_horn</td>\n",
       "      <td>2.532099</td>\n",
       "    </tr>\n",
       "  </tbody>\n",
       "</table>\n",
       "<p>8732 rows × 9 columns</p>\n",
       "</div>"
      ],
      "text/plain": [
       "         slice_file_name    fsID       start         end  salience  fold  \\\n",
       "0       100032-3-0-0.wav  100032    0.000000    0.317551         1     5   \n",
       "1     100263-2-0-117.wav  100263   58.500000   62.500000         1     5   \n",
       "2     100263-2-0-121.wav  100263   60.500000   64.500000         1     5   \n",
       "3     100263-2-0-126.wav  100263   63.000000   67.000000         1     5   \n",
       "4     100263-2-0-137.wav  100263   68.500000   72.500000         1     5   \n",
       "...                  ...     ...         ...         ...       ...   ...   \n",
       "8727     99812-1-2-0.wav   99812  159.522205  163.522205         2     7   \n",
       "8728     99812-1-3-0.wav   99812  181.142431  183.284976         2     7   \n",
       "8729     99812-1-4-0.wav   99812  242.691902  246.197885         2     7   \n",
       "8730     99812-1-5-0.wav   99812  253.209850  255.741948         2     7   \n",
       "8731     99812-1-6-0.wav   99812  332.289233  334.821332         2     7   \n",
       "\n",
       "      classID             class  durations  \n",
       "0           3          dog_bark   0.317551  \n",
       "1           2  children_playing   4.000000  \n",
       "2           2  children_playing   4.000000  \n",
       "3           2  children_playing   4.000000  \n",
       "4           2  children_playing   4.000000  \n",
       "...       ...               ...        ...  \n",
       "8727        1          car_horn   4.000000  \n",
       "8728        1          car_horn   2.142545  \n",
       "8729        1          car_horn   3.505983  \n",
       "8730        1          car_horn   2.532098  \n",
       "8731        1          car_horn   2.532099  \n",
       "\n",
       "[8732 rows x 9 columns]"
      ]
     },
     "execution_count": 26,
     "metadata": {},
     "output_type": "execute_result"
    }
   ],
   "source": [
    "df['durations'] = df['end'] - df['start']\n",
    "df"
   ]
  },
  {
   "cell_type": "code",
   "execution_count": 27,
   "id": "3329c056",
   "metadata": {},
   "outputs": [
    {
     "data": {
      "image/png": "[encoded data removed]",
      "text/plain": [
       "<Figure size 640x480 with 1 Axes>"
      ]
     },
     "metadata": {},
     "output_type": "display_data"
    }
   ],
   "source": [
    "df.durations.plot()\n",
    "plt.xlabel(\"audio file #\")\n",
    "plt.ylabel(\"duration (sec)\")\n",
    "plt.title(\"UrbanSound8K dataset: time duration each audio file\")\n",
    "plt.savefig(\"figures/durations.png\", bbox_inches='tight')"
   ]
  },
  {
   "cell_type": "code",
   "execution_count": 25,
   "id": "ed8a9f97",
   "metadata": {},
   "outputs": [
    {
     "data": {
      "text/plain": [
       "count    8732.000000\n",
       "mean        3.607904\n",
       "std         0.973570\n",
       "min         0.054517\n",
       "25%         4.000000\n",
       "50%         4.000000\n",
       "75%         4.000000\n",
       "max         4.000000\n",
       "Name: durations, dtype: float64"
      ]
     },
     "execution_count": 25,
     "metadata": {},
     "output_type": "execute_result"
    }
   ],
   "source": [
    "df['durations'].describe()"
   ]
  },
  {
   "cell_type": "code",
   "execution_count": 35,
   "id": "643cf3ee",
   "metadata": {},
   "outputs": [
    {
     "data": {
      "text/html": [
       "<div>\n",
       "<style scoped>\n",
       "    .dataframe tbody tr th:only-of-type {\n",
       "        vertical-align: middle;\n",
       "    }\n",
       "\n",
       "    .dataframe tbody tr th {\n",
       "        vertical-align: top;\n",
       "    }\n",
       "\n",
       "    .dataframe thead th {\n",
       "        text-align: right;\n",
       "    }\n",
       "</style>\n",
       "<table border=\"1\" class=\"dataframe\">\n",
       "  <thead>\n",
       "    <tr style=\"text-align: right;\">\n",
       "      <th></th>\n",
       "      <th>slice_file_name</th>\n",
       "      <th>fsID</th>\n",
       "      <th>start</th>\n",
       "      <th>end</th>\n",
       "      <th>salience</th>\n",
       "      <th>fold</th>\n",
       "      <th>classID</th>\n",
       "      <th>class</th>\n",
       "      <th>durations</th>\n",
       "    </tr>\n",
       "  </thead>\n",
       "  <tbody>\n",
       "    <tr>\n",
       "      <th>0</th>\n",
       "      <td>100032-3-0-0.wav</td>\n",
       "      <td>100032</td>\n",
       "      <td>0.000000</td>\n",
       "      <td>0.317551</td>\n",
       "      <td>1</td>\n",
       "      <td>5</td>\n",
       "      <td>3</td>\n",
       "      <td>dog_bark</td>\n",
       "      <td>0.317551</td>\n",
       "    </tr>\n",
       "    <tr>\n",
       "      <th>9</th>\n",
       "      <td>100648-1-0-0.wav</td>\n",
       "      <td>100648</td>\n",
       "      <td>4.823402</td>\n",
       "      <td>5.471927</td>\n",
       "      <td>2</td>\n",
       "      <td>10</td>\n",
       "      <td>1</td>\n",
       "      <td>car_horn</td>\n",
       "      <td>0.648525</td>\n",
       "    </tr>\n",
       "    <tr>\n",
       "      <th>10</th>\n",
       "      <td>100648-1-1-0.wav</td>\n",
       "      <td>100648</td>\n",
       "      <td>8.998279</td>\n",
       "      <td>10.052132</td>\n",
       "      <td>2</td>\n",
       "      <td>10</td>\n",
       "      <td>1</td>\n",
       "      <td>car_horn</td>\n",
       "      <td>1.053853</td>\n",
       "    </tr>\n",
       "    <tr>\n",
       "      <th>11</th>\n",
       "      <td>100648-1-2-0.wav</td>\n",
       "      <td>100648</td>\n",
       "      <td>16.699509</td>\n",
       "      <td>17.104837</td>\n",
       "      <td>2</td>\n",
       "      <td>10</td>\n",
       "      <td>1</td>\n",
       "      <td>car_horn</td>\n",
       "      <td>0.405328</td>\n",
       "    </tr>\n",
       "    <tr>\n",
       "      <th>12</th>\n",
       "      <td>100648-1-3-0.wav</td>\n",
       "      <td>100648</td>\n",
       "      <td>17.631764</td>\n",
       "      <td>19.253075</td>\n",
       "      <td>2</td>\n",
       "      <td>10</td>\n",
       "      <td>1</td>\n",
       "      <td>car_horn</td>\n",
       "      <td>1.621311</td>\n",
       "    </tr>\n",
       "    <tr>\n",
       "      <th>...</th>\n",
       "      <td>...</td>\n",
       "      <td>...</td>\n",
       "      <td>...</td>\n",
       "      <td>...</td>\n",
       "      <td>...</td>\n",
       "      <td>...</td>\n",
       "      <td>...</td>\n",
       "      <td>...</td>\n",
       "      <td>...</td>\n",
       "    </tr>\n",
       "    <tr>\n",
       "      <th>8681</th>\n",
       "      <td>99185-3-0-0.wav</td>\n",
       "      <td>99185</td>\n",
       "      <td>0.341411</td>\n",
       "      <td>0.950911</td>\n",
       "      <td>1</td>\n",
       "      <td>5</td>\n",
       "      <td>3</td>\n",
       "      <td>dog_bark</td>\n",
       "      <td>0.609500</td>\n",
       "    </tr>\n",
       "    <tr>\n",
       "      <th>8728</th>\n",
       "      <td>99812-1-3-0.wav</td>\n",
       "      <td>99812</td>\n",
       "      <td>181.142431</td>\n",
       "      <td>183.284976</td>\n",
       "      <td>2</td>\n",
       "      <td>7</td>\n",
       "      <td>1</td>\n",
       "      <td>car_horn</td>\n",
       "      <td>2.142545</td>\n",
       "    </tr>\n",
       "    <tr>\n",
       "      <th>8729</th>\n",
       "      <td>99812-1-4-0.wav</td>\n",
       "      <td>99812</td>\n",
       "      <td>242.691902</td>\n",
       "      <td>246.197885</td>\n",
       "      <td>2</td>\n",
       "      <td>7</td>\n",
       "      <td>1</td>\n",
       "      <td>car_horn</td>\n",
       "      <td>3.505983</td>\n",
       "    </tr>\n",
       "    <tr>\n",
       "      <th>8730</th>\n",
       "      <td>99812-1-5-0.wav</td>\n",
       "      <td>99812</td>\n",
       "      <td>253.209850</td>\n",
       "      <td>255.741948</td>\n",
       "      <td>2</td>\n",
       "      <td>7</td>\n",
       "      <td>1</td>\n",
       "      <td>car_horn</td>\n",
       "      <td>2.532098</td>\n",
       "    </tr>\n",
       "    <tr>\n",
       "      <th>8731</th>\n",
       "      <td>99812-1-6-0.wav</td>\n",
       "      <td>99812</td>\n",
       "      <td>332.289233</td>\n",
       "      <td>334.821332</td>\n",
       "      <td>2</td>\n",
       "      <td>7</td>\n",
       "      <td>1</td>\n",
       "      <td>car_horn</td>\n",
       "      <td>2.532099</td>\n",
       "    </tr>\n",
       "  </tbody>\n",
       "</table>\n",
       "<p>1655 rows × 9 columns</p>\n",
       "</div>"
      ],
      "text/plain": [
       "       slice_file_name    fsID       start         end  salience  fold  \\\n",
       "0     100032-3-0-0.wav  100032    0.000000    0.317551         1     5   \n",
       "9     100648-1-0-0.wav  100648    4.823402    5.471927         2    10   \n",
       "10    100648-1-1-0.wav  100648    8.998279   10.052132         2    10   \n",
       "11    100648-1-2-0.wav  100648   16.699509   17.104837         2    10   \n",
       "12    100648-1-3-0.wav  100648   17.631764   19.253075         2    10   \n",
       "...                ...     ...         ...         ...       ...   ...   \n",
       "8681   99185-3-0-0.wav   99185    0.341411    0.950911         1     5   \n",
       "8728   99812-1-3-0.wav   99812  181.142431  183.284976         2     7   \n",
       "8729   99812-1-4-0.wav   99812  242.691902  246.197885         2     7   \n",
       "8730   99812-1-5-0.wav   99812  253.209850  255.741948         2     7   \n",
       "8731   99812-1-6-0.wav   99812  332.289233  334.821332         2     7   \n",
       "\n",
       "      classID     class  durations  \n",
       "0           3  dog_bark   0.317551  \n",
       "9           1  car_horn   0.648525  \n",
       "10          1  car_horn   1.053853  \n",
       "11          1  car_horn   0.405328  \n",
       "12          1  car_horn   1.621311  \n",
       "...       ...       ...        ...  \n",
       "8681        3  dog_bark   0.609500  \n",
       "8728        1  car_horn   2.142545  \n",
       "8729        1  car_horn   3.505983  \n",
       "8730        1  car_horn   2.532098  \n",
       "8731        1  car_horn   2.532099  \n",
       "\n",
       "[1655 rows x 9 columns]"
      ]
     },
     "execution_count": 35,
     "metadata": {},
     "output_type": "execute_result"
    }
   ],
   "source": [
    "df_short = df[df['durations'] < 4]\n",
    "df_short"
   ]
  },
  {
   "cell_type": "markdown",
   "id": "c9f9b2d2",
   "metadata": {},
   "source": [
    "### Check if all files have the same sample rate"
   ]
  },
  {
   "cell_type": "code",
   "execution_count": 38,
   "id": "cfdb63d4",
   "metadata": {},
   "outputs": [],
   "source": [
    "sample_rates = []\n",
    "number_of_channels = []\n",
    "number_of_samples = []\n",
    "for i in range(0,100):\n",
    "    waveform, sample_rate, label = dataset.get_raw_waveform(i)\n",
    "    \n",
    "    number_of_channels.append(waveform.shape[0])\n",
    "    number_of_samples.append(waveform.shape[1])\n",
    "    sample_rates.append(sample_rate)    "
   ]
  },
  {
   "cell_type": "code",
   "execution_count": 39,
   "id": "084c5cd7",
   "metadata": {},
   "outputs": [
    {
     "data": {
      "image/png": "[encoded data removed]",
      "text/plain": [
       "<Figure size 640x480 with 1 Axes>"
      ]
     },
     "metadata": {},
     "output_type": "display_data"
    }
   ],
   "source": [
    "plt.figure()\n",
    "plt.plot(sample_rates)\n",
    "plt.xlabel(\"audio file #\")\n",
    "plt.ylabel(\"sample rate (Hz)\")\n",
    "plt.title(\"UrbanSound8K dataset: sample rate of each audio file\")\n",
    "plt.savefig(\"figures/sample_rates.png\", bbox_inches='tight')"
   ]
  },
  {
   "cell_type": "code",
   "execution_count": null,
   "id": "73848154",
   "metadata": {},
   "outputs": [],
   "source": [
    "np.mean(sample_rates)"
   ]
  },
  {
   "cell_type": "code",
   "execution_count": null,
   "id": "2b846ebd",
   "metadata": {},
   "outputs": [],
   "source": [
    "min(sample_rates)"
   ]
  },
  {
   "cell_type": "code",
   "execution_count": null,
   "id": "fbb7c185",
   "metadata": {},
   "outputs": [],
   "source": [
    "max(sample_rates)"
   ]
  },
  {
   "cell_type": "code",
   "execution_count": null,
   "id": "1ce99ebc",
   "metadata": {},
   "outputs": [],
   "source": [
    "number_of_channels_df = pd.DataFrame()\n",
    "number_of_channels_df['channels'] = number_of_channels\n",
    "number_of_channels_df['channels'].value_counts().plot.bar()\n",
    "plt.xlabel(\"Channels (#)\")\n",
    "plt.ylabel(\"Files (#)\")\n",
    "\n",
    "plt.title(\"UrbanSound8K dataset: channels of each audio file\")\n",
    "plt.savefig(\"figures/number_of_channels.png\", bbox_inches='tight')"
   ]
  },
  {
   "cell_type": "code",
   "execution_count": null,
   "id": "bbf99495",
   "metadata": {},
   "outputs": [],
   "source": [
    "plt.figure()\n",
    "plt.plot(number_of_samples)\n",
    "plt.xlabel(\"audio file #\")\n",
    "plt.ylabel(\"samples (#)\")\n",
    "plt.title(\"UrbanSound8K dataset: number of samples of each audio file\")\n",
    "plt.savefig(\"figures/number_of_samples.png\", bbox_inches='tight')"
   ]
  },
  {
   "cell_type": "code",
   "execution_count": null,
   "id": "4cb52e5a",
   "metadata": {},
   "outputs": [],
   "source": [
    "waveform, sample_rate, label = dataset.get_raw_waveform(1)"
   ]
  },
  {
   "cell_type": "code",
   "execution_count": null,
   "id": "9498ff63",
   "metadata": {},
   "outputs": [],
   "source": [
    "num_channels, samples = waveform.shape\n",
    "num_channels"
   ]
  },
  {
   "cell_type": "code",
   "execution_count": null,
   "id": "045b61a2",
   "metadata": {},
   "outputs": [],
   "source": [
    "samples"
   ]
  },
  {
   "cell_type": "markdown",
   "id": "74f680a6",
   "metadata": {},
   "source": [
    "### Check process pipeline when up-sampling"
   ]
  },
  {
   "cell_type": "code",
   "execution_count": null,
   "id": "f7255b50",
   "metadata": {},
   "outputs": [],
   "source": [
    "waveform, sample_rate, label = dataset.get_raw_waveform(0)\n",
    "dataset.plot_waveform(waveform, sample_rate, label)"
   ]
  },
  {
   "cell_type": "code",
   "execution_count": null,
   "id": "041ec90f",
   "metadata": {},
   "outputs": [],
   "source": [
    "print(\"Raw waveform\")\n",
    "print(\"The sample_rate is : {} and the number of samples is: {}\".format(sample_rate, waveform.shape[1]))"
   ]
  },
  {
   "cell_type": "code",
   "execution_count": null,
   "id": "3d569886",
   "metadata": {},
   "outputs": [],
   "source": [
    "waveform, sample_rate, label = dataset.get_processed_waveform(0)\n",
    "dataset.plot_waveform(waveform, sample_rate, label)"
   ]
  },
  {
   "cell_type": "code",
   "execution_count": null,
   "id": "47f5255c",
   "metadata": {},
   "outputs": [],
   "source": [
    "print(\"Processed waveform\")\n",
    "print(\" The sample_rate is : {} and the number of samples is: {}\".format(sample_rate, waveform.shape[1]))"
   ]
  },
  {
   "cell_type": "markdown",
   "id": "4551f1f4",
   "metadata": {},
   "source": [
    "### Check process pipeline when down-sampling"
   ]
  },
  {
   "cell_type": "code",
   "execution_count": null,
   "id": "fff1b624",
   "metadata": {},
   "outputs": [],
   "source": [
    "waveform, sample_rate, label = dataset.get_raw_waveform(10)\n",
    "dataset.plot_waveform(waveform, sample_rate, label)"
   ]
  },
  {
   "cell_type": "code",
   "execution_count": null,
   "id": "fd1be9dc",
   "metadata": {},
   "outputs": [],
   "source": [
    "print(\"Raw waveform\")\n",
    "print(\" The sample_rate is : {} and the number of samples is: {}\".format(sample_rate, waveform.shape[1]))"
   ]
  },
  {
   "cell_type": "code",
   "execution_count": null,
   "id": "99b6253e",
   "metadata": {},
   "outputs": [],
   "source": [
    "waveform, sample_rate, label = dataset.get_processed_waveform(10)\n",
    "dataset.plot_waveform(waveform, sample_rate, label)"
   ]
  },
  {
   "cell_type": "code",
   "execution_count": null,
   "id": "3631a92d",
   "metadata": {},
   "outputs": [],
   "source": [
    "print(\"Processed waveform\")\n",
    "print(\" The sample_rate is : {} and the number of samples is: {}\".format(sample_rate, waveform.shape[1]))"
   ]
  },
  {
   "cell_type": "code",
   "execution_count": null,
   "id": "c12a5f17",
   "metadata": {},
   "outputs": [],
   "source": [
    "import torch\n",
    "def plot_spectrogram(waveform, end):\n",
    "    waveform = waveform[:10]\n",
    "    waveform = waveform.numpy()\n",
    "\n",
    "    num_channels, num_frames = waveform.shape\n",
    "    time_axis = torch.arange(0, num_frames) / sample_rate\n",
    "\n",
    "    figure, axes = plt.subplots(num_channels, 1)\n",
    "    if num_channels == 1:\n",
    "        axes = [axes]\n",
    "    for c in range(num_channels):\n",
    "        axes[c].plot(time_axis, waveform[c], linewidth=1)\n",
    "        axes[c].grid(True)\n",
    "        if num_channels > 1:\n",
    "            axes[c].set_ylabel(f\"Channel {c+1}\")\n",
    "    figure.suptitle(label)\n",
    "\n",
    "plot_spectrogram(waveform, 22050)"
   ]
  },
  {
   "cell_type": "code",
   "execution_count": null,
   "id": "98e0e9bf",
   "metadata": {},
   "outputs": [],
   "source": [
    "num_of_samples = waveform.shape[1]\n",
    "num_of_samples"
   ]
  },
  {
   "cell_type": "code",
   "execution_count": null,
   "id": "ff60c0dc",
   "metadata": {},
   "outputs": [],
   "source": [
    "num_of_missing_samples = 22050 - num_of_samples\n",
    "num_of_missing_samples"
   ]
  },
  {
   "cell_type": "code",
   "execution_count": null,
   "id": "98e15c63",
   "metadata": {},
   "outputs": [],
   "source": [
    "last_dimension_padding = (0, num_of_missing_samples)\n",
    "last_dimension_padding"
   ]
  },
  {
   "cell_type": "code",
   "execution_count": null,
   "id": "4b58e574",
   "metadata": {},
   "outputs": [],
   "source": [
    "import torch\n",
    "waveform = torch.nn.functional.pad(waveform, (0, 8046))"
   ]
  },
  {
   "cell_type": "code",
   "execution_count": null,
   "id": "91c3c619",
   "metadata": {},
   "outputs": [],
   "source": [
    "import torch\n",
    "if torch.cuda.is_available():\n",
    "    device = \"cuda\"\n",
    "else:\n",
    "    device = \"cpu\"\n",
    "    \n",
    "print(device)"
   ]
  },
  {
   "cell_type": "markdown",
   "id": "5cfbd9fb",
   "metadata": {},
   "source": [
    "### Check resampler"
   ]
  },
  {
   "cell_type": "code",
   "execution_count": null,
   "id": "dd2b7fe4",
   "metadata": {},
   "outputs": [],
   "source": [
    "waveform, sample_rate, label = dataset.get_raw_waveform(0)"
   ]
  },
  {
   "cell_type": "code",
   "execution_count": null,
   "id": "fcf43fef",
   "metadata": {},
   "outputs": [],
   "source": [
    "waveform.shape"
   ]
  },
  {
   "cell_type": "code",
   "execution_count": null,
   "id": "7c7a630e",
   "metadata": {},
   "outputs": [],
   "source": [
    "sample_rate"
   ]
  },
  {
   "cell_type": "code",
   "execution_count": null,
   "id": "de1037eb",
   "metadata": {},
   "outputs": [],
   "source": [
    "import torchaudio.transforms as T\n",
    "resampler = T.Resample(sample_rate, 22050)\n",
    "resampled_waveform = resampler(waveform)"
   ]
  },
  {
   "cell_type": "code",
   "execution_count": null,
   "id": "205d6e08",
   "metadata": {},
   "outputs": [],
   "source": [
    "resampled_waveform.shape"
   ]
  },
  {
   "cell_type": "markdown",
   "id": "7b5d04f7",
   "metadata": {},
   "source": [
    "### Some visualizations"
   ]
  },
  {
   "cell_type": "code",
   "execution_count": null,
   "id": "664681cb",
   "metadata": {},
   "outputs": [],
   "source": [
    "labels = dataset.class_mapping"
   ]
  },
  {
   "cell_type": "code",
   "execution_count": null,
   "id": "268f4ef7",
   "metadata": {
    "scrolled": false
   },
   "outputs": [],
   "source": [
    "sample_idx = 10\n",
    "for label in labels.keys():\n",
    "    index = df.index[df['class']==label].tolist()\n",
    "    waveform, sample_rate, label = dataset.get_processed_waveform(index[sample_idx])\n",
    "    dataset.plot_waveform(waveform, sample_rate, label)"
   ]
  },
  {
   "cell_type": "code",
   "execution_count": null,
   "id": "d5b3b4ce",
   "metadata": {
    "scrolled": false
   },
   "outputs": [],
   "source": [
    "sample_idx = 10\n",
    "for label in labels.keys():\n",
    "    index = df.index[df['class'] == label].tolist()\n",
    "    \n",
    "    waveform, sample_rate, label = dataset.get_processed_waveform(index[sample_idx])\n",
    "    mel_spectro = dataset.calc_mel_spec(waveform)\n",
    "\n",
    "    dataset.plot_spectrogram(mel_spectro[0])\n",
    "    plt.show()"
   ]
  },
  {
   "cell_type": "code",
   "execution_count": null,
   "id": "a2830cae",
   "metadata": {},
   "outputs": [],
   "source": [
    "waveform, sample_rate, label = dataset.get_processed_waveform(index[sample_idx])\n",
    "mel_spectro = dataset.calc_mel_spec(waveform)"
   ]
  },
  {
   "cell_type": "code",
   "execution_count": null,
   "id": "d3dbca13",
   "metadata": {
    "scrolled": false
   },
   "outputs": [],
   "source": [
    "sample_idx = 10\n",
    "for label in labels.keys():\n",
    "    index = df.index[df['class'] == label].tolist()\n",
    "\n",
    "    waveform, sample_rate, label = dataset.get_processed_waveform(index[sample_idx])\n",
    "    \n",
    "    mfcc = dataset.calc_mfcc(waveform)\n",
    "\n",
    "    dataset.plot_spectrogram(mfcc[0])\n",
    "    plt.show()"
   ]
  },
  {
   "cell_type": "code",
   "execution_count": null,
   "id": "d847bfd6",
   "metadata": {},
   "outputs": [],
   "source": [
    "3"
   ]
  }
 ],
 "metadata": {
  "kernelspec": {
   "display_name": "Python 3 (ipykernel)",
   "language": "python",
   "name": "python3"
  },
  "language_info": {
   "codemirror_mode": {
    "name": "ipython",
    "version": 3
   },
   "file_extension": ".py",
   "mimetype": "text/x-python",
   "name": "python",
   "nbconvert_exporter": "python",
   "pygments_lexer": "ipython3",
   "version": "3.9.15"
  }
 },
 "nbformat": 4,
 "nbformat_minor": 5
}
